{
  "nbformat": 4,
  "nbformat_minor": 0,
  "metadata": {
    "colab": {
      "provenance": [],
      "authorship_tag": "ABX9TyNqP6gLvEQXzONb+orzFJFV",
      "include_colab_link": true
    },
    "kernelspec": {
      "name": "python3",
      "display_name": "Python 3"
    },
    "language_info": {
      "name": "python"
    }
  },
  "cells": [
    {
      "cell_type": "markdown",
      "metadata": {
        "id": "view-in-github",
        "colab_type": "text"
      },
      "source": [
        "<a href=\"https://colab.research.google.com/github/Afzalfaizi/LangGraph/blob/main/module_1_node.ipynb\" target=\"_parent\"><img src=\"https://colab.research.google.com/assets/colab-badge.svg\" alt=\"Open In Colab\"/></a>"
      ]
    },
    {
      "cell_type": "code",
      "execution_count": 1,
      "metadata": {
        "id": "wFOYXwsIZncg"
      },
      "outputs": [],
      "source": [
        "%%capture --no-stderr\n",
        "%pip install --quiet -U langgraph"
      ]
    },
    {
      "cell_type": "markdown",
      "source": [
        "**State**"
      ],
      "metadata": {
        "id": "d72IPORKTZWv"
      }
    },
    {
      "cell_type": "markdown",
      "source": [
        "First, define the State of the graph.\n",
        "\n",
        "The State schema serves as the input schema for all Nodes and Edges in the graph.\n",
        "\n",
        "Let's use the TypedDict class from python's typing module as our schema, which provides type hints for the keys.\n",
        "\n"
      ],
      "metadata": {
        "id": "PgIIHxeaThN6"
      }
    },
    {
      "cell_type": "code",
      "source": [
        "from typing_extensions import TypedDict\n",
        "class LearningState(TypedDict):\n",
        "    prompt: str\n"
      ],
      "metadata": {
        "id": "HQiwxIDNTp9Z"
      },
      "execution_count": 2,
      "outputs": []
    },
    {
      "cell_type": "code",
      "source": [
        "# prompt: create an example from above LearningState\n",
        "lahore_state: LearningState = LearningState(prompt= \"hello from UMT Lahore\")"
      ],
      "metadata": {
        "id": "k070bkj7UTKE"
      },
      "execution_count": 3,
      "outputs": []
    },
    {
      "cell_type": "code",
      "source": [
        "print(lahore_state)\n",
        "print(lahore_state['prompt'])\n",
        "print(lahore_state['prompt'] +\" I am\")\n",
        "print(lahore_state)\n",
        "print(type(lahore_state))"
      ],
      "metadata": {
        "colab": {
          "base_uri": "https://localhost:8080/",
          "height": 0
        },
        "id": "k_t5KAzjUVZU",
        "outputId": "0885e880-ec57-4526-97d6-60605ca0e74d"
      },
      "execution_count": 4,
      "outputs": [
        {
          "output_type": "stream",
          "name": "stdout",
          "text": [
            "{'prompt': 'hello from UMT Lahore'}\n",
            "hello from UMT Lahore\n",
            "hello from UMT Lahore I am\n",
            "{'prompt': 'hello from UMT Lahore'}\n",
            "<class 'dict'>\n"
          ]
        }
      ]
    },
    {
      "cell_type": "markdown",
      "source": [
        "**Nodes**"
      ],
      "metadata": {
        "id": "UbVB841CUYGa"
      }
    },
    {
      "cell_type": "markdown",
      "source": [
        "Nodes are just python functions.\n",
        "\n",
        "The first positional argument is the state, as defined above.\n",
        "\n",
        "Because the state is a TypedDict with schema as defined above, each node can access the key, graph_state, with state['graph_state'].\n",
        "\n",
        "Each node returns a new value of the state key graph_state.\n",
        "\n",
        "By default, the new value returned by each node will override the prior state value."
      ],
      "metadata": {
        "id": "8dRfLEoiUeIZ"
      }
    },
    {
      "cell_type": "code",
      "source": [
        "def node_1(state: LearningState) -> LearningState:\n",
        "    print(\"---Node 1 State---\", state)\n",
        "    return {\"prompt\": state['prompt'] +\" I am\"}\n",
        "\n",
        "def node_2(state: LearningState) -> LearningState:\n",
        "    print(\"---Node 2 State---\", state)\n",
        "    return {\"prompt\": state['prompt'] +\" happy!\"}"
      ],
      "metadata": {
        "id": "IBybsSFRUlei"
      },
      "execution_count": 5,
      "outputs": []
    },
    {
      "cell_type": "markdown",
      "source": [
        "**Edges**"
      ],
      "metadata": {
        "id": "UL_-oFb9UpW5"
      }
    },
    {
      "cell_type": "markdown",
      "source": [
        "Edges connect the nodes.\n",
        "\n",
        "Normal Edges are used if you want to always go from, for example, node_1 to node_2."
      ],
      "metadata": {
        "id": "BxqhKtZdUskE"
      }
    },
    {
      "cell_type": "markdown",
      "source": [
        "**Graph Construction**\n"
      ],
      "metadata": {
        "id": "pHmLWgV1U5LL"
      }
    },
    {
      "cell_type": "markdown",
      "source": [
        "\n",
        "Now, we build the graph from our components defined above.\n",
        "\n",
        "The StateGraph class is the graph class that we can use.\n",
        "\n",
        "First, we initialize a StateGraph with the State class we defined above.\n",
        "\n",
        "Then, we add our nodes and edges.\n",
        "\n",
        "We use the START Node, a special node that sends user input to the graph, to indicate where to start our graph.\n",
        "\n",
        "The END Node is a special node that represents a terminal node.\n",
        "\n",
        "Finally, we compile our graph to perform a few basic checks on the graph structure.\n",
        "\n",
        "We can visualize the graph as a Mermaid diagram."
      ],
      "metadata": {
        "id": "aU4gjakeU68T"
      }
    },
    {
      "cell_type": "code",
      "source": [
        "from IPython.display import Image, display # Preview Graph\n",
        "\n",
        "from langgraph.graph import StateGraph, START, END\n",
        "from langgraph.graph.state import CompiledStateGraph # type\n",
        "\n",
        "# Build graph\n",
        "builder: StateGraph = StateGraph(state_schema=LearningState)"
      ],
      "metadata": {
        "id": "P9b1vohrVBDs"
      },
      "execution_count": 6,
      "outputs": []
    },
    {
      "cell_type": "code",
      "source": [
        "print(type(builder))"
      ],
      "metadata": {
        "colab": {
          "base_uri": "https://localhost:8080/",
          "height": 0
        },
        "id": "2mdd64mHVE5H",
        "outputId": "29de94bc-20ab-412e-bc73-58117345e142"
      },
      "execution_count": 7,
      "outputs": [
        {
          "output_type": "stream",
          "name": "stdout",
          "text": [
            "<class 'langgraph.graph.state.StateGraph'>\n"
          ]
        }
      ]
    },
    {
      "cell_type": "code",
      "source": [
        "# Nodes in LangGraph\n",
        "builder.add_node(\"node_1\", node_1)\n",
        "builder.add_node(\"node_2\", node_2)"
      ],
      "metadata": {
        "colab": {
          "base_uri": "https://localhost:8080/",
          "height": 0
        },
        "id": "4h7PLQT-VF_2",
        "outputId": "7f8eada6-9690-46ac-a0d6-bdd7a8f1c3c5"
      },
      "execution_count": 8,
      "outputs": [
        {
          "output_type": "execute_result",
          "data": {
            "text/plain": [
              "<langgraph.graph.state.StateGraph at 0x7ee2a19631f0>"
            ]
          },
          "metadata": {},
          "execution_count": 8
        }
      ]
    },
    {
      "cell_type": "code",
      "source": [
        "# Simples Edges Logic\n",
        "builder.add_edge(START, \"node_1\")\n",
        "builder.add_edge(\"node_1\", \"node_2\")\n",
        "builder.add_edge(\"node_2\", END)"
      ],
      "metadata": {
        "colab": {
          "base_uri": "https://localhost:8080/",
          "height": 0
        },
        "id": "qBxPdetbVeRA",
        "outputId": "26fcf739-aaf7-4289-aa46-ba8aab29b2a6"
      },
      "execution_count": 9,
      "outputs": [
        {
          "output_type": "execute_result",
          "data": {
            "text/plain": [
              "<langgraph.graph.state.StateGraph at 0x7ee2a19631f0>"
            ]
          },
          "metadata": {},
          "execution_count": 9
        }
      ]
    },
    {
      "cell_type": "code",
      "source": [
        "# Add\n",
        "graph: CompiledStateGraph = builder.compile()"
      ],
      "metadata": {
        "id": "PhaKSiW2VgzS"
      },
      "execution_count": 10,
      "outputs": []
    },
    {
      "cell_type": "code",
      "source": [
        "print(graph)"
      ],
      "metadata": {
        "colab": {
          "base_uri": "https://localhost:8080/",
          "height": 0
        },
        "id": "ni9rdEtdVi7o",
        "outputId": "0571b908-15f6-4c6c-9c4a-5a1307834bc5"
      },
      "execution_count": 11,
      "outputs": [
        {
          "output_type": "stream",
          "name": "stdout",
          "text": [
            "<langgraph.graph.state.CompiledStateGraph object at 0x7ee2a1962fe0>\n"
          ]
        }
      ]
    },
    {
      "cell_type": "code",
      "source": [
        "print(graph.get_graph())"
      ],
      "metadata": {
        "colab": {
          "base_uri": "https://localhost:8080/",
          "height": 0
        },
        "id": "zv6SV4haVlA_",
        "outputId": "c4e4c3da-a0f0-449d-80e1-6cc3bda505b4"
      },
      "execution_count": 12,
      "outputs": [
        {
          "output_type": "stream",
          "name": "stdout",
          "text": [
            "Graph(nodes={'__start__': Node(id='__start__', name='__start__', data=<class 'langchain_core.utils.pydantic.LangGraphInput'>, metadata=None), 'node_1': Node(id='node_1', name='node_1', data=node_1(tags=None, recurse=True, func_accepts_config=False, func_accepts={'writer': False, 'store': False}), metadata=None), 'node_2': Node(id='node_2', name='node_2', data=node_2(tags=None, recurse=True, func_accepts_config=False, func_accepts={'writer': False, 'store': False}), metadata=None), '__end__': Node(id='__end__', name='__end__', data=<class 'langchain_core.utils.pydantic.LangGraphOutput'>, metadata=None)}, edges=[Edge(source='__start__', target='node_1', data=None, conditional=False), Edge(source='node_1', target='node_2', data=None, conditional=False), Edge(source='node_2', target='__end__', data=None, conditional=False)])\n"
          ]
        }
      ]
    },
    {
      "cell_type": "code",
      "source": [
        "# View\n",
        "display(Image(graph.get_graph().draw_mermaid_png()))"
      ],
      "metadata": {
        "colab": {
          "base_uri": "https://localhost:8080/",
          "height": 350
        },
        "id": "qpK3U3BfVn64",
        "outputId": "139d8430-4442-498d-e52d-84a296645191"
      },
      "execution_count": 13,
      "outputs": [
        {
          "output_type": "display_data",
          "data": {
            "image/png": "[encoded data removed]",
            "text/plain": [
              "<IPython.core.display.Image object>"
            ]
          },
          "metadata": {}
        }
      ]
    },
    {
      "cell_type": "markdown",
      "source": [
        "**Graph Invocation**\n",
        "The compiled graph implements the runnable protocol.\n",
        "\n",
        "This provides a standard way to execute LangChain components.\n",
        "\n",
        "invoke is one of the standard methods in this interface.\n",
        "\n",
        "The input is a dictionary {\"graph_state\": \"Hi, this is lance.\"}, which sets the initial value for our graph state dict.\n",
        "\n",
        "When invoke is called, the graph starts execution from the START node.\n",
        "\n",
        "It progresses through the defined nodes (node_1, node_2, node_3) in order.\n",
        "\n",
        "Each node function receives the current state and returns a new value, which overrides the graph state.\n",
        "\n",
        "The execution continues until it reaches the END node."
      ],
      "metadata": {
        "id": "R25NALg2Vr7Z"
      }
    },
    {
      "cell_type": "code",
      "source": [
        "graph.invoke({\"prompt\" : \"Hi\"})"
      ],
      "metadata": {
        "colab": {
          "base_uri": "https://localhost:8080/",
          "height": 0
        },
        "id": "e-Wov4h9Vwbe",
        "outputId": "ef85975a-53b9-4986-83dc-501377d4a504"
      },
      "execution_count": 14,
      "outputs": [
        {
          "output_type": "stream",
          "name": "stdout",
          "text": [
            "---Node 1 State--- {'prompt': 'Hi'}\n",
            "---Node 2 State--- {'prompt': 'Hi I am'}\n"
          ]
        },
        {
          "output_type": "execute_result",
          "data": {
            "text/plain": [
              "{'prompt': 'Hi I am happy!'}"
            ]
          },
          "metadata": {},
          "execution_count": 14
        }
      ]
    },
    {
      "cell_type": "markdown",
      "source": [
        "invoke runs the entire graph synchronously.\n",
        "\n",
        "This waits for each step to complete before moving to the next.\n",
        "\n",
        "It returns the final state of the graph after all nodes have executed.\n",
        "\n",
        "In this case, it returns the state after node_3 has completed:\n",
        "\n",
        "{'graph_state': 'Hi, this is Lance. I am sad!'}"
      ],
      "metadata": {
        "id": "3ItSmTx4V1UY"
      }
    },
    {
      "cell_type": "markdown",
      "source": [
        "**Task: In Nodes Use LLM == GoogleChatModel in Langchain**\n"
      ],
      "metadata": {
        "id": "xmHJuQVVV5LB"
      }
    },
    {
      "cell_type": "code",
      "source": [
        "%pip install -q -U langchain\n",
        "%pip install -q -U langchain-google-genai"
      ],
      "metadata": {
        "colab": {
          "base_uri": "https://localhost:8080/",
          "height": 0
        },
        "id": "q_DJJ4PcV9K8",
        "outputId": "65e62acb-3f79-48e9-bd7a-ea71f37efc7a"
      },
      "execution_count": 15,
      "outputs": [
        {
          "output_type": "stream",
          "name": "stdout",
          "text": [
            "\u001b[2K   \u001b[90m━━━━━━━━━━━━━━━━━━━━━━━━━━━━━━━━━━━━━━━━\u001b[0m \u001b[32m1.0/1.0 MB\u001b[0m \u001b[31m10.7 MB/s\u001b[0m eta \u001b[36m0:00:00\u001b[0m\n",
            "\u001b[2K   \u001b[90m━━━━━━━━━━━━━━━━━━━━━━━━━━━━━━━━━━━━━━━━\u001b[0m \u001b[32m41.3/41.3 kB\u001b[0m \u001b[31m852.4 kB/s\u001b[0m eta \u001b[36m0:00:00\u001b[0m\n",
            "\u001b[?25h"
          ]
        }
      ]
    },
    {
      "cell_type": "code",
      "source": [
        "from google.colab import userdata\n",
        "google_api_key = userdata.get('GEMINI_API_KEY')"
      ],
      "metadata": {
        "id": "dF-L_NbYWFLS"
      },
      "execution_count": 17,
      "outputs": []
    },
    {
      "cell_type": "code",
      "source": [
        "from langchain_google_genai import ChatGoogleGenerativeAI\n",
        "\n",
        "# Initialize an instance of the ChatGoogleGenerativeAI with specific parameters\n",
        "llm: ChatGoogleGenerativeAI = ChatGoogleGenerativeAI(\n",
        "    model=\"gemini-1.5-flash\",  # Specify the model to use\n",
        "    api_key=google_api_key,     # Provide the Google API key for authentication\n",
        ")"
      ],
      "metadata": {
        "id": "wmhlHuF-WSP3"
      },
      "execution_count": 18,
      "outputs": []
    },
    {
      "cell_type": "code",
      "source": [
        "# Import the AIMessage class currently will be used for typing\n",
        "from langchain_core.messages.ai import AIMessage\n",
        "\n",
        "ai_msg: AIMessage = llm.invoke(\"Hi?\")"
      ],
      "metadata": {
        "id": "7RVPIB1VWraL"
      },
      "execution_count": 19,
      "outputs": []
    },
    {
      "cell_type": "code",
      "source": [
        "print(ai_msg.content)\n",
        "print(type(ai_msg.content))\n"
      ],
      "metadata": {
        "colab": {
          "base_uri": "https://localhost:8080/",
          "height": 0
        },
        "id": "L2PyxaShWuZ2",
        "outputId": "b0c7c1ae-6eae-4f8d-ae1b-1b986fcd2c55"
      },
      "execution_count": 20,
      "outputs": [
        {
          "output_type": "stream",
          "name": "stdout",
          "text": [
            "Hi there! How can I help you today?\n",
            "\n",
            "<class 'str'>\n"
          ]
        }
      ]
    },
    {
      "cell_type": "code",
      "source": [
        "from typing_extensions import TypedDict\n",
        "\n",
        "class FirstLLMAgentCall(TypedDict):\n",
        "    prompt: str\n",
        "    output: str"
      ],
      "metadata": {
        "id": "jArE6WUuW10A"
      },
      "execution_count": 21,
      "outputs": []
    },
    {
      "cell_type": "code",
      "source": [
        "def node_1(state: FirstLLMAgentCall) -> FirstLLMAgentCall:\n",
        "    print(\"---Node 1 State---\", state)\n",
        "    prompt = state[\"prompt\"]\n",
        "    ai_msg: AIMessage = llm.invoke(prompt)\n",
        "    return {\"output\": ai_msg.content}"
      ],
      "metadata": {
        "id": "WWnbsuuSZ_Uj"
      },
      "execution_count": 22,
      "outputs": []
    },
    {
      "cell_type": "code",
      "source": [
        "faizi_greet_message = node_1(FirstLLMAgentCall(prompt=\"Hi, I am Faizi from NTU. How are you?\"))\n",
        "print(faizi_greet_message)\n",
        "print(type(faizi_greet_message))"
      ],
      "metadata": {
        "colab": {
          "base_uri": "https://localhost:8080/",
          "height": 0
        },
        "id": "FJS7SZvUaZaX",
        "outputId": "57eeb25e-b89d-4abe-e010-aefba1d6d569"
      },
      "execution_count": 23,
      "outputs": [
        {
          "output_type": "stream",
          "name": "stdout",
          "text": [
            "---Node 1 State--- {'prompt': 'Hi, I am Faizi from NTU. How are you?'}\n",
            "{'output': \"I'm doing well, thank you for asking!  It's nice to meet you, Faizi from NTU.  How are you doing today?\\n\"}\n",
            "<class 'dict'>\n"
          ]
        }
      ]
    },
    {
      "cell_type": "code",
      "source": [
        "from IPython.display import Image, display_html\n",
        "from langgraph.graph import StateGraph, START, END\n",
        "from langgraph.graph.state import CompiledStateGraph\n",
        "\n",
        "builder: StateGraph = StateGraph(state_schema=FirstLLMAgentCall)\n",
        "\n",
        "# Define Nodes\n",
        "builder.add_node(\"node_1\", node_1)\n",
        "\n",
        "# Simples Edges Logic\n",
        "builder.add_edge(START, \"node_1\")\n",
        "builder.add_edge(\"node_1\", END)\n",
        "\n",
        "# Compile Graph\n",
        "graph: CompiledStateGraph = builder.compile()\n",
        "\n"
      ],
      "metadata": {
        "id": "ezbkpB22azW2"
      },
      "execution_count": 24,
      "outputs": []
    },
    {
      "cell_type": "code",
      "source": [
        "# View\n",
        "display(Image(graph.get_graph().draw_mermaid_png()))"
      ],
      "metadata": {
        "colab": {
          "base_uri": "https://localhost:8080/",
          "height": 251
        },
        "id": "8k27mSWSb0l0",
        "outputId": "4dd99f61-52c1-4d6f-fd62-5e2c2b95b7c0"
      },
      "execution_count": 25,
      "outputs": [
        {
          "output_type": "display_data",
          "data": {
            "image/png": "[encoded data removed]",
            "text/plain": [
              "<IPython.core.display.Image object>"
            ]
          },
          "metadata": {}
        }
      ]
    },
    {
      "cell_type": "code",
      "source": [
        "result = graph.invoke({\"prompt\": \"can you motivate me to learn langGraph?\"})\n",
        "print(result)"
      ],
      "metadata": {
        "colab": {
          "base_uri": "https://localhost:8080/",
          "height": 0
        },
        "id": "vEiawvi1ceNY",
        "outputId": "d294220f-2b87-40e2-adae-11d9b99e2306"
      },
      "execution_count": 27,
      "outputs": [
        {
          "output_type": "stream",
          "name": "stdout",
          "text": [
            "---Node 1 State--- {'prompt': 'can you motivate me to learn langGraph?'}\n",
            "{'prompt': 'can you motivate me to learn langGraph?', 'output': 'Let\\'s talk about why learning LangGraph could be a fantastic investment of your time and energy.  It\\'s not just another language model; it offers a unique blend of capabilities that can significantly boost your skills and open doors to exciting opportunities.  Here\\'s some motivation broken down:\\n\\n**For the technically inclined:**\\n\\n* **Deep Dive into Graph Neural Networks (GNNs):** LangGraph isn\\'t just about text; it leverages the power of GNNs to understand relationships and context in a way traditional language models struggle with. This is a cutting-edge field, and mastering it will make you a highly sought-after specialist.  Learning LangGraph allows you to get hands-on experience with this powerful technology.\\n* **Enhanced Understanding of Knowledge Graphs:**  LangGraph likely interacts with or builds upon knowledge graphs.  This means you\\'ll gain a deeper understanding of how structured knowledge is represented and used, valuable in many fields from AI research to data science.\\n* **Building Advanced Applications:**  Imagine the possibilities! You could build applications that go beyond simple text generation.  Think semantic search engines that truly understand the meaning behind queries, intelligent chatbots with a deep understanding of context, or sophisticated recommendation systems that go beyond collaborative filtering.\\n\\n**For those seeking career advancement:**\\n\\n* **High Demand Skills:**  Expertise in GNNs and knowledge graph technologies is in high demand.  Learning LangGraph gives you a significant edge in the competitive job market, opening doors to lucrative roles in AI research, data science, and software engineering.\\n* **Stay Ahead of the Curve:** The field of AI is constantly evolving.  By learning LangGraph, you\\'re demonstrating a commitment to continuous learning and staying at the forefront of innovation.\\n* **Increased Earning Potential:**  Specialization in cutting-edge technologies like LangGraph directly translates to higher earning potential.\\n\\n**For the intellectually curious:**\\n\\n* **Solving Complex Problems:**  LangGraph tackles complex problems in natural language processing that traditional methods struggle with.  Learning it will allow you to contribute to solving these challenges and pushing the boundaries of what\\'s possible.\\n* **Understanding the \"Why\":**  You\\'ll gain a deeper understanding of *why* certain NLP techniques work and how they can be improved.  This deeper understanding is intellectually rewarding and will make you a more effective practitioner.\\n* **Contributing to Open Source:**  Depending on the specifics of LangGraph, you might have the opportunity to contribute to an open-source project, further enhancing your skills and contributing to the community.\\n\\nUltimately, the motivation to learn LangGraph comes down to your personal goals.  But if you\\'re looking to enhance your technical skills, advance your career, or simply explore a fascinating area of artificial intelligence, then the investment in learning LangGraph could be exceptionally rewarding.  Start small, focus on one aspect at a time, and celebrate your progress along the way. You\\'ve got this!\\n'}\n"
          ]
        }
      ]
    },
    {
      "cell_type": "code",
      "source": [],
      "metadata": {
        "id": "9IjxgOsOdl8b"
      },
      "execution_count": null,
      "outputs": []
    }
  ]
}